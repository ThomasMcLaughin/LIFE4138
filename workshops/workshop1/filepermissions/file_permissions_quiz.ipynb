{
 "cells": [
  {
   "cell_type": "markdown",
   "id": "b5c89daa",
   "metadata": {},
   "source": [
    "\n",
    "# File Permissions Quiz\n",
    "\n",
    "This interactive notebook will test your understanding of file permissions in Linux. Complete the tasks below by writing the appropriate Bash commands in the provided cells.\n"
   ]
  },
  {
   "cell_type": "markdown",
   "id": "c0be686c",
   "metadata": {},
   "source": [
    "\n",
    "## Question 1: Checking File Permissions\n",
    "ls -l",
    "Write a command that lists the permissions of all files in the current directory.\n"
   ]
  },
  {
   "cell_type": "code",
   "execution_count": null,
   "id": "6186e46c",
   "metadata": {},
   "outputs": [],
   "source": [
    "\n",
    "ls -l",
    "# Write a command to list permissions of all files\n",
    "\n"
   ]
  },
  {
   "cell_type": "markdown",
   "id": "b137f106",
   "metadata": {},
   "source": [
    "\n",
    "## Question 2: Changing File Permissions (chmod)\n",
    "chmod u+x script.sh",
    "Write a command that makes the file `script.sh` executable by the user.\n"
   ]
  },
  {
   "cell_type": "code",
   "execution_count": null,
   "id": "b7b6fac5",
   "metadata": {},
   "outputs": [],
   "source": [
    "\n",
    "chmod u+x script.sh",
    "# Write a command to make script.sh executable by the user\n",
    "\n"
   ]
  },
  {
   "cell_type": "markdown",
   "id": "b727459e",
   "metadata": {},
   "source": [
    "\n",
    "## Question 3: Removing Write Permission\n",
    "chmod go-w document.txt ",
    "Write a command that removes write permission for the group and others from the file `document.txt`.\n"
   ]
  },
  {
   "cell_type": "code",
   "execution_count": null,
   "id": "f050327f",
   "metadata": {},
   "outputs": [],
   "source": [
    "chmod go-w",
    "# Your answer here\n",
    "# Write a command to remove write permission for group and others\n",
    "\n"
   ]
  },
  {
   "cell_type": "markdown",
   "id": "58c95a81",
   "metadata": {},
   "source": [
    "\n",
    "## Question 4: Setting Permissions with Octal Notation\n",
    "chmod 754 notes.txt",
    "Write a command that sets the file `notes.txt` to have the following permissions:\n",
    "- Owner: read, write, execute\n",
    "- Group: read, execute\n",
    "- Others: read\n"
   ]
  },
  {
   "cell_type": "code",
   "execution_count": null,
   "id": "34f30bdf",
   "metadata": {},
   "outputs": [],
   "source": [
    "\n",
    "# Your answer here\n",
    "# Write a command to set the specified permissions using octal notation\n",
    "\n"
   ]
  },
  {
   "cell_type": "markdown",
   "id": "a7ba1b62",
   "metadata": {},
   "source": [
    "\n",
    "## Question 5: Changing File Ownership (chown)\n",
    "sudo chown student report.txt",
    "Write a command that changes the ownership of `report.txt` to the user `student`.\n"
   ]
  },
  {
   "cell_type": "code",
   "execution_count": null,
   "id": "d31a05af",
   "metadata": {},
   "outputs": [],
   "source": [
    "\n",
    "sudo chown newoener:newgroup report.txt",
    "# Write a command to change ownership of report.txt\n",
    "\n"
   ]
  },
  {
   "cell_type": "markdown",
   "id": "791786ea",
   "metadata": {},
   "source": [
    "\n",
    "## Next Steps\n",
    "\n",
    "- After completing all the tasks, run each cell to test your commands.\n",
    "- Use comments to explain your reasoning if needed.\n",
    "\n",
    "Good luck!\n"
   ]
  }
 ],
 "metadata": {
  "kernelspec": {
   "display_name": "Python 3 (ipykernel)",
   "language": "python",
   "name": "python3"
  },
  "language_info": {
   "codemirror_mode": {
    "name": "ipython",
    "version": 3
   },
   "file_extension": ".py",
   "mimetype": "text/x-python",
   "name": "python",
   "nbconvert_exporter": "python",
   "pygments_lexer": "ipython3",
   "version": "3.12.5"
  }
 },
 "nbformat": 4,
 "nbformat_minor": 5
}
